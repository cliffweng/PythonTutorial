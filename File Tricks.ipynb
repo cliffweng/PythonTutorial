{
 "cells": [
  {
   "cell_type": "code",
   "execution_count": 1,
   "metadata": {
    "collapsed": false
   },
   "outputs": [],
   "source": [
    "f = open('workfile.txt', 'w')\n",
    "f.write('Cows cross the street\\n')\n",
    "f.write('Lions roar\\n')\n",
    "f.write('Zebras are cool\\n')\n",
    "f.write('Monkeys eat bananas\\n')\n",
    "f.close()"
   ]
  },
  {
   "cell_type": "code",
   "execution_count": 2,
   "metadata": {
    "collapsed": false
   },
   "outputs": [
    {
     "name": "stdout",
     "output_type": "stream",
     "text": [
      "['Cows cross the street\\n', 'Lions roar\\n', 'Zebras are cool\\n', 'Monkeys eat bananas\\n']\n",
      "['Cows cross the street\\n', 'Lions roar\\n', 'Monkeys eat bananas\\n', 'Zebras are cool\\n']\n"
     ]
    }
   ],
   "source": [
    "f = open('workfile.txt', 'r')\n",
    "read_data = f.readlines()\n",
    "f.closed\n",
    "print(read_data)\n",
    "read_data.sort()\n",
    "print(read_data)"
   ]
  },
  {
   "cell_type": "code",
   "execution_count": 3,
   "metadata": {
    "collapsed": false
   },
   "outputs": [
    {
     "name": "stdout",
     "output_type": "stream",
     "text": [
      "['Cows', 'cross', 'the', 'street', 'Lions', 'roar', 'Zebras', 'are', 'cool', 'Monkeys', 'eat', 'bananas']\n"
     ]
    }
   ],
   "source": [
    "f = open('workfile.txt', 'r')\n",
    "content = f.read().split()\n",
    "print(content)"
   ]
  },
  {
   "cell_type": "code",
   "execution_count": null,
   "metadata": {
    "collapsed": false
   },
   "outputs": [],
   "source": []
  }
 ],
 "metadata": {
  "kernelspec": {
   "display_name": "Python 2",
   "language": "python",
   "name": "python2"
  },
  "language_info": {
   "codemirror_mode": {
    "name": "ipython",
    "version": 2
   },
   "file_extension": ".py",
   "mimetype": "text/x-python",
   "name": "python",
   "nbconvert_exporter": "python",
   "pygments_lexer": "ipython2",
   "version": "2.7.8"
  }
 },
 "nbformat": 4,
 "nbformat_minor": 0
}
